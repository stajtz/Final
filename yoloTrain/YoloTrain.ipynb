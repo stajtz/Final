{
  "nbformat": 4,
  "nbformat_minor": 0,
  "metadata": {
    "colab": {
      "name": "YoloTrain.ipynb",
      "provenance": [],
      "collapsed_sections": []
    },
    "kernelspec": {
      "name": "python3",
      "display_name": "Python 3"
    },
    "language_info": {
      "name": "python"
    }
  },
  "cells": [
    {
      "cell_type": "code",
      "metadata": {
        "id": "9QaU5liq6sHv"
      },
      "source": [
        "from google.colab import drive\n",
        "drive.mount('/content/drive')"
      ],
      "execution_count": null,
      "outputs": []
    },
    {
      "cell_type": "code",
      "metadata": {
        "id": "3qqz5YBB6tky"
      },
      "source": [
        "%cd /content/drive/MyDrive/yoloCustomTrain/\n",
        "!ls"
      ],
      "execution_count": null,
      "outputs": []
    },
    {
      "cell_type": "code",
      "metadata": {
        "id": "efw6yP556uvH"
      },
      "source": [
        "!unzip 'customData.zip'"
      ],
      "execution_count": null,
      "outputs": []
    },
    {
      "cell_type": "code",
      "metadata": {
        "id": "rKrn_JHf6wIs"
      },
      "source": [
        "!git clone 'https://github.com/AlexeyAB/darknet.git' 'darknet'"
      ],
      "execution_count": null,
      "outputs": []
    },
    {
      "cell_type": "code",
      "metadata": {
        "id": "NNAOjdcW6yca"
      },
      "source": [
        "%cd darknet\n",
        "!ls"
      ],
      "execution_count": null,
      "outputs": []
    },
    {
      "cell_type": "code",
      "metadata": {
        "id": "Ye1y9KPq60Gf"
      },
      "source": [
        "!sed -i 's/OPENCV=0/OPENCV=1/g' Makefile\n",
        "!sed -i 's/GPU=0/GPU=1/g' Makefile\n",
        "!sed -i 's/CUDNN=0/CUDNN=1/g' Makefile\n",
        "!make"
      ],
      "execution_count": null,
      "outputs": []
    },
    {
      "cell_type": "code",
      "metadata": {
        "id": "9amUtYD9613V"
      },
      "source": [
        "%cd ..\n",
        "!ls"
      ],
      "execution_count": null,
      "outputs": []
    },
    {
      "cell_type": "code",
      "metadata": {
        "id": "XapD4EFD64K9"
      },
      "source": [
        "!darknet/darknet detector train customData/customData.data darknet/cfg/yolov4Custom.cfg backup/yolov4Custom_last.weights -dont_show -map"
      ],
      "execution_count": null,
      "outputs": []
    },
    {
      "cell_type": "code",
      "metadata": {
        "id": "bOzEmctX65tF"
      },
      "source": [
        "!chmod +x ./darknet/darknet"
      ],
      "execution_count": null,
      "outputs": []
    },
    {
      "cell_type": "code",
      "metadata": {
        "id": "-RsspQn26_w_"
      },
      "source": [
        "!darknet/darknet detector map customData/customData.data darknet/cfg/yolov4Custom.cfg backup/yolov4Custom_last.weights"
      ],
      "execution_count": null,
      "outputs": []
    }
  ]
}